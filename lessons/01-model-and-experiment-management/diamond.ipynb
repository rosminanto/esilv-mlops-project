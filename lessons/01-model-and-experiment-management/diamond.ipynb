{
 "cells": [
  {
   "cell_type": "code",
   "execution_count": 1,
   "metadata": {},
   "outputs": [
    {
     "name": "stderr",
     "output_type": "stream",
     "text": [
      "c:\\Users\\vinay\\anaconda3\\envs\\mlops-course\\lib\\site-packages\\pydantic\\_internal\\_config.py:345: UserWarning: Valid config keys have changed in V2:\n",
      "* 'schema_extra' has been renamed to 'json_schema_extra'\n",
      "  warnings.warn(message, UserWarning)\n"
     ]
    }
   ],
   "source": [
    "import pickle\n",
    "from typing import Any, List\n",
    "import os\n",
    "import pandas as pd\n",
    "import numpy as np\n",
    "from sklearn.model_selection import train_test_split\n",
    "from sklearn.preprocessing import StandardScaler\n",
    "from sklearn.feature_extraction import DictVectorizer\n",
    "from sklearn.linear_model import LinearRegression\n",
    "from sklearn.metrics import mean_squared_error, r2_score\n",
    "import mlflow\n",
    "from mlflow.tracking import MlflowClient"
   ]
  },
  {
   "cell_type": "code",
   "execution_count": 2,
   "metadata": {},
   "outputs": [
    {
     "name": "stdout",
     "output_type": "stream",
     "text": [
      "tracking URI: 'file:///d:/Vinay/ESILV/machine-learning-operations/esilv-mlops-crashcourse-master/lessons/01-model-and-experiment-management/mlruns'\n",
      "Available Experiments:\n",
      "- Name: diamond-price-prediction\n",
      "- Name: Default\n"
     ]
    }
   ],
   "source": [
    "print(f\"tracking URI: '{mlflow.get_tracking_uri()}'\")\n",
    "\n",
    "# Create an MLflow client\n",
    "client = MlflowClient()\n",
    "\n",
    "# Search for experiments\n",
    "experiments = client.search_experiments()\n",
    "print(\"Available Experiments:\")\n",
    "for experiment in experiments:\n",
    "    print(f\"- Name: {experiment.name}\")\n"
   ]
  },
  {
   "cell_type": "code",
   "execution_count": 3,
   "metadata": {},
   "outputs": [
    {
     "name": "stdout",
     "output_type": "stream",
     "text": [
      "Dataset shape: (53940, 10)\n",
      "\n",
      "First few rows:\n",
      "   carat         cut color clarity  depth  table  price     x     y     z\n",
      "0   0.23    b'Ideal'  b'E'  b'SI2'   61.5   55.0  326.0  3.95  3.98  2.43\n",
      "1   0.21  b'Premium'  b'E'  b'SI1'   59.8   61.0  326.0  3.89  3.84  2.31\n",
      "2   0.23     b'Good'  b'E'  b'VS1'   56.9   65.0  327.0  4.05  4.07  2.31\n",
      "3   0.29  b'Premium'  b'I'  b'VS2'   62.4   58.0  334.0  4.20  4.23  2.63\n",
      "4   0.31     b'Good'  b'J'  b'SI2'   63.3   58.0  335.0  4.34  4.35  2.75\n",
      "\n",
      "Data info:\n",
      "<class 'pandas.core.frame.DataFrame'>\n",
      "RangeIndex: 53940 entries, 0 to 53939\n",
      "Data columns (total 10 columns):\n",
      " #   Column   Non-Null Count  Dtype  \n",
      "---  ------   --------------  -----  \n",
      " 0   carat    53940 non-null  float64\n",
      " 1   cut      53940 non-null  object \n",
      " 2   color    53940 non-null  object \n",
      " 3   clarity  53940 non-null  object \n",
      " 4   depth    53940 non-null  float64\n",
      " 5   table    53940 non-null  float64\n",
      " 6   price    53940 non-null  float64\n",
      " 7   x        53940 non-null  float64\n",
      " 8   y        53940 non-null  float64\n",
      " 9   z        53940 non-null  float64\n",
      "dtypes: float64(7), object(3)\n",
      "memory usage: 4.1+ MB\n",
      "None\n"
     ]
    }
   ],
   "source": [
    "def load_data(path: str) -> pd.DataFrame:\n",
    "    \"\"\"Load the diamonds dataset from CSV file and clean column names\"\"\"\n",
    "    df = pd.read_csv(path)\n",
    "    # Clean up column names - remove extra quotation marks\n",
    "    df.columns = [col.strip(\"'\") for col in df.columns]\n",
    "    return df\n",
    "\n",
    "# Load the data\n",
    "diamonds_df = load_data('../../data/diamonds.csv')\n",
    "print(\"Dataset shape:\", diamonds_df.shape)\n",
    "print(\"\\nFirst few rows:\")\n",
    "print(diamonds_df.head())\n",
    "print(\"\\nData info:\")\n",
    "print(diamonds_df.info())"
   ]
  },
  {
   "cell_type": "code",
   "execution_count": 4,
   "metadata": {},
   "outputs": [
    {
     "name": "stdout",
     "output_type": "stream",
     "text": [
      "Train set shape: (43152, 10)\n",
      "Test set shape: (10788, 10)\n"
     ]
    }
   ],
   "source": [
    "def prepare_train_test_data(df: pd.DataFrame, test_size: float = 0.2, random_state: int = 42):\n",
    "    \"\"\"Split the data into training and testing sets\"\"\"\n",
    "    return train_test_split(\n",
    "        df, \n",
    "        test_size=test_size, \n",
    "        random_state=random_state\n",
    "    )\n",
    "\n",
    "train_df, test_df = prepare_train_test_data(diamonds_df)\n",
    "print(\"Train set shape:\", train_df.shape)\n",
    "print(\"Test set shape:\", test_df.shape)\n"
   ]
  },
  {
   "cell_type": "code",
   "execution_count": 5,
   "metadata": {},
   "outputs": [],
   "source": [
    "CATEGORICAL_COLS = ['cut', 'color', 'clarity']\n",
    "NUMERICAL_COLS = ['carat', 'depth', 'table', 'x', 'y', 'z']\n",
    "TARGET = 'price'\n",
    "\n",
    "def encode_categorical_cols(df: pd.DataFrame, categorical_cols: List[str] = None) -> pd.DataFrame:\n",
    "    \"\"\"Encode categorical columns\"\"\"\n",
    "    df = df.copy()\n",
    "    if categorical_cols is None:\n",
    "        categorical_cols = CATEGORICAL_COLS\n",
    "    df[categorical_cols] = df[categorical_cols].astype(str)\n",
    "    return df\n",
    "\n",
    "def prepare_features(\n",
    "    df: pd.DataFrame, \n",
    "    categorical_cols: List[str] = None,\n",
    "    numerical_cols: List[str] = None,\n",
    "    dv: DictVectorizer = None,\n",
    "    scaler: StandardScaler = None,\n",
    "    fit: bool = False\n",
    ") -> tuple:\n",
    "    \"\"\"Prepare features for modeling\"\"\"\n",
    "    \n",
    "    if categorical_cols is None:\n",
    "        categorical_cols = CATEGORICAL_COLS\n",
    "    if numerical_cols is None:\n",
    "        numerical_cols = NUMERICAL_COLS\n",
    "        \n",
    "    # Prepare categorical features\n",
    "    df = encode_categorical_cols(df, categorical_cols)\n",
    "    cat_dicts = df[categorical_cols].to_dict(orient='records')\n",
    "    \n",
    "    if fit:\n",
    "        dv = DictVectorizer(sparse=False)\n",
    "        cat_features = dv.fit_transform(cat_dicts)\n",
    "    else:\n",
    "        cat_features = dv.transform(cat_dicts)\n",
    "    \n",
    "    # Prepare numerical features\n",
    "    if fit:\n",
    "        scaler = StandardScaler()\n",
    "        num_features = scaler.fit_transform(df[numerical_cols])\n",
    "    else:\n",
    "        num_features = scaler.transform(df[numerical_cols])\n",
    "    \n",
    "    # Combine features\n",
    "    X = np.hstack([num_features, cat_features])\n",
    "    \n",
    "    if fit:\n",
    "        return X, dv, scaler\n",
    "    return X\n",
    "\n",
    "# Prepare training data\n",
    "X_train, dv, scaler = prepare_features(\n",
    "    train_df, \n",
    "    categorical_cols=CATEGORICAL_COLS,\n",
    "    numerical_cols=NUMERICAL_COLS,\n",
    "    fit=True\n",
    ")\n",
    "y_train = train_df[TARGET].values\n",
    "\n",
    "# Prepare test data\n",
    "X_test = prepare_features(\n",
    "    test_df,\n",
    "    categorical_cols=CATEGORICAL_COLS,\n",
    "    numerical_cols=NUMERICAL_COLS,\n",
    "    dv=dv,\n",
    "    scaler=scaler,\n",
    "    fit=False\n",
    ")\n",
    "y_test = test_df[TARGET].values\n"
   ]
  },
  {
   "cell_type": "code",
   "execution_count": 6,
   "metadata": {},
   "outputs": [],
   "source": [
    "def train_model(\n",
    "    X_train: np.ndarray,\n",
    "    y_train: np.ndarray,\n",
    "    **model_params\n",
    ") -> LinearRegression:\n",
    "    \"\"\"Train a linear regression model\"\"\"\n",
    "    model = LinearRegression(**model_params)\n",
    "    model.fit(X_train, y_train)\n",
    "    return model\n",
    "\n",
    "def evaluate_model(y_true: np.ndarray, y_pred: np.ndarray) -> dict:\n",
    "    \"\"\"Calculate model performance metrics\"\"\"\n",
    "    rmse = mean_squared_error(y_true, y_pred, squared=False)\n",
    "    r2 = r2_score(y_true, y_pred)\n",
    "    return {\n",
    "        'rmse': rmse,\n",
    "        'r2_score': r2\n",
    "    }"
   ]
  },
  {
   "cell_type": "code",
   "execution_count": 7,
   "metadata": {},
   "outputs": [
    {
     "name": "stdout",
     "output_type": "stream",
     "text": [
      "Run ID: cdda14f2c01544b9bc4064d26adcbbd2\n",
      "Train RMSE: 1128.57\n",
      "Test RMSE: 1135.21\n",
      "Train R2: 0.9200\n",
      "Test R2: 0.9189\n"
     ]
    }
   ],
   "source": [
    "mlflow.set_experiment(\"diamond-price-prediction\")\n",
    "\n",
    "# Start a run\n",
    "with mlflow.start_run() as run:\n",
    "    run_id = run.info.run_id\n",
    "    \n",
    "    # Set tags for the run\n",
    "    mlflow.set_tag(\"model_type\", \"linear_regression\")\n",
    "    mlflow.set_tag(\"dataset\", \"diamonds\")\n",
    "    \n",
    "    # Log data info\n",
    "    mlflow.log_params({\n",
    "        \"train_samples\": len(train_df),\n",
    "        \"test_samples\": len(test_df),\n",
    "        \"categorical_features\": CATEGORICAL_COLS,\n",
    "        \"numerical_features\": NUMERICAL_COLS\n",
    "    })\n",
    "    \n",
    "    # Train model\n",
    "    model = train_model(X_train, y_train)\n",
    "    \n",
    "    # Log model parameters\n",
    "    mlflow.log_params(model.get_params())\n",
    "    \n",
    "    # Make predictions and evaluate\n",
    "    train_pred = model.predict(X_train)\n",
    "    test_pred = model.predict(X_test)\n",
    "    \n",
    "    # Calculate metrics\n",
    "    train_metrics = evaluate_model(y_train, train_pred)\n",
    "    test_metrics = evaluate_model(y_test, test_pred)\n",
    "    \n",
    "    # Log metrics\n",
    "    mlflow.log_metrics({\n",
    "        \"train_rmse\": train_metrics['rmse'],\n",
    "        \"train_r2\": train_metrics['r2_score'],\n",
    "        \"test_rmse\": test_metrics['rmse'],\n",
    "        \"test_r2\": test_metrics['r2_score']\n",
    "    })\n",
    "    \n",
    "    # Log the model\n",
    "    mlflow.sklearn.log_model(model, \"diamond_price_model\")\n",
    "    \n",
    "    print(f\"Run ID: {run_id}\")\n",
    "    print(f\"Train RMSE: {train_metrics['rmse']:.2f}\")\n",
    "    print(f\"Test RMSE: {test_metrics['rmse']:.2f}\")\n",
    "    print(f\"Train R2: {train_metrics['r2_score']:.4f}\")\n",
    "    print(f\"Test R2: {test_metrics['r2_score']:.4f}\")\n"
   ]
  },
  {
   "cell_type": "code",
   "execution_count": 8,
   "metadata": {},
   "outputs": [
    {
     "name": "stderr",
     "output_type": "stream",
     "text": [
      "Registered model 'diamond_price_predictor' already exists. Creating a new version of this model...\n",
      "2025/03/07 13:27:00 INFO mlflow.tracking._model_registry.client: Waiting up to 300 seconds for model version to finish creation. Model name: diamond_price_predictor, version 2\n"
     ]
    },
    {
     "name": "stdout",
     "output_type": "stream",
     "text": [
      "Model 'diamond_price_predictor' version 2 transitioned to Production stage\n"
     ]
    },
    {
     "name": "stderr",
     "output_type": "stream",
     "text": [
      "Created version '2' of model 'diamond_price_predictor'.\n"
     ]
    }
   ],
   "source": [
    "client = MlflowClient()\n",
    "\n",
    "# Register the model\n",
    "model_name = \"diamond_price_predictor\"\n",
    "model_uri = f\"runs:/{run_id}/diamond_price_model\"\n",
    "registered_model = mlflow.register_model(model_uri, model_name)\n",
    "\n",
    "# Transition the model to production\n",
    "client.transition_model_version_stage(\n",
    "    name=model_name,\n",
    "    version=registered_model.version,\n",
    "    stage=\"Production\"\n",
    ")\n",
    "\n",
    "print(f\"Model '{model_name}' version {registered_model.version} transitioned to Production stage\")\n"
   ]
  },
  {
   "cell_type": "code",
   "execution_count": 9,
   "metadata": {},
   "outputs": [
    {
     "name": "stdout",
     "output_type": "stream",
     "text": [
      "\n",
      "Sample Predictions:\n",
      "Diamond 1: $693.27\n",
      "Diamond 2: $5,085.69\n",
      "Diamond 3: $9,734.64\n"
     ]
    }
   ],
   "source": [
    "def predict_price(df: pd.DataFrame, model, dv: DictVectorizer, scaler: StandardScaler) -> np.ndarray:\n",
    "    \"\"\"Make predictions using the trained model\"\"\"\n",
    "    X = prepare_features(\n",
    "        df,\n",
    "        categorical_cols=CATEGORICAL_COLS,\n",
    "        numerical_cols=NUMERICAL_COLS,\n",
    "        dv=dv,\n",
    "        scaler=scaler,\n",
    "        fit=False\n",
    "    )\n",
    "    return model.predict(X)\n",
    "\n",
    "# Load production model\n",
    "production_model = mlflow.sklearn.load_model(f\"models:/{model_name}/production\")\n",
    "\n",
    "# Create sample data for prediction\n",
    "sample_data = pd.DataFrame({\n",
    "    'carat': [0.5, 1.0, 1.5],\n",
    "    'cut': ['Ideal', 'Premium', 'Very Good'],\n",
    "    'color': ['E', 'F', 'G'],\n",
    "    'clarity': ['VS1', 'VS2', 'SI1'],\n",
    "    'depth': [61.5, 62.0, 62.5],\n",
    "    'table': [55.0, 56.0, 57.0],\n",
    "    'x': [5.15, 6.3, 7.2],\n",
    "    'y': [5.2, 6.35, 7.25],\n",
    "    'z': [3.2, 3.9, 4.5]\n",
    "})\n",
    "\n",
    "# Make predictions\n",
    "predictions = predict_price(sample_data, production_model, dv, scaler)\n",
    "print(\"\\nSample Predictions:\")\n",
    "for i, pred in enumerate(predictions):\n",
    "    print(f\"Diamond {i+1}: ${pred:,.2f}\")\n"
   ]
  },
  {
   "cell_type": "code",
   "execution_count": null,
   "metadata": {},
   "outputs": [],
   "source": [
    "def save_pickle(path: str, obj: Any):\n",
    "    \"\"\"Save object to pickle file\"\"\"\n",
    "    with open(path, \"wb\") as f:\n",
    "        pickle.dump(obj, f)\n",
    "\n",
    "# Save preprocessors and model\n",
    "MODEL_VERSION = \"0.0.1\"\n",
    "save_pickle(\"../../models/diamond_dv.pkl\", dv)\n",
    "save_pickle(f\"../02-model-deployment/web_service/local_models/diamond_dv__v{MODEL_VERSION}.pkl\", dv)\n",
    "save_pickle(\"../../models/diamond_scaler.pkl\", scaler)\n",
    "save_pickle(f\"../02-model-deployment/web_service/local_models/diamond_scaler__v{MODEL_VERSION}.pkl\", scaler)\n",
    "save_pickle(\"../../models/diamond_model.pkl\", model)\n",
    "save_pickle(f\"../02-model-deployment/web_service/local_models/diamond_model__v{MODEL_VERSION}.pkl\", model)"
   ]
  },
  {
   "cell_type": "code",
   "execution_count": null,
   "metadata": {},
   "outputs": [],
   "source": []
  }
 ],
 "metadata": {
  "kernelspec": {
   "display_name": "mlops-course",
   "language": "python",
   "name": "python3"
  },
  "language_info": {
   "codemirror_mode": {
    "name": "ipython",
    "version": 3
   },
   "file_extension": ".py",
   "mimetype": "text/x-python",
   "name": "python",
   "nbconvert_exporter": "python",
   "pygments_lexer": "ipython3",
   "version": "3.10.16"
  }
 },
 "nbformat": 4,
 "nbformat_minor": 2
}
